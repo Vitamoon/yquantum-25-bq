{
 "cells": [
  {
   "cell_type": "code",
   "execution_count": 1,
   "id": "ee41a4d9-4750-473f-86ab-3d08fefd1bd5",
   "metadata": {},
   "outputs": [],
   "source": [
    "from qiskit_quimb import quimb_circuit\n",
    "from qiskit import QuantumCircuit\n",
    "import quimb as qmb\n",
    "import quimb.tensor as qtn\n",
    "import numpy as np"
   ]
  },
  {
   "cell_type": "code",
   "execution_count": 2,
   "id": "94ab7eb5-ad16-4696-b122-9ce40a10320c",
   "metadata": {},
   "outputs": [],
   "source": [
    "# Patch the quimb_circuit package, as it does not recognze 'SX' gate\n",
    "\n",
    "from collections.abc import Sequence\n",
    "from qiskit_quimb.gate import _register_gate_func\n",
    "from qiskit.circuit import Instruction\n",
    "from typing import Any\n",
    "\n",
    "@_register_gate_func(\"sx\")\n",
    "def _(op: Instruction, qubits: Sequence[int], kwargs: dict[str, Any]):\n",
    "    return qmb.tensor.Gate(\"X_1_2\", params=[], qubits=qubits, **kwargs)"
   ]
  },
  {
   "cell_type": "code",
   "execution_count": 3,
   "id": "723aaf31-5175-41d7-adab-ae882ec5940e",
   "metadata": {},
   "outputs": [],
   "source": [
    "P1 = \"./qasm/P1_little_peak.qasm\"\n",
    "P2 = \"./qasm/P2_swift_rise.qasm\"\n",
    "P3 = \"./qasm/P3__sharp_peak.qasm\"\n",
    "P4 = \"./qasm/P4_golden_mountain.qasm\"\n",
    "P5 = \"./qasm/P5_granite_summit.qasm\"\n",
    "P6 = \"./qasm/P6_titan_pinnacle.qasm\""
   ]
  },
  {
   "cell_type": "code",
   "execution_count": 4,
   "id": "9eebc69d-15c3-45af-a1ca-392879146141",
   "metadata": {},
   "outputs": [],
   "source": [
    "# Choose one circuit (not 4/5/6)\n",
    "P = P3"
   ]
  },
  {
   "cell_type": "code",
   "execution_count": 5,
   "id": "e8570f7f-ef3b-4a63-9026-8af3e61fe6ac",
   "metadata": {},
   "outputs": [],
   "source": [
    "try:\n",
    "    qc = qtn.Circuit.from_openqasm2_file(P)\n",
    "except ValueError:\n",
    "    # P2 will fail due to the SX gates\n",
    "    qc = quimb_circuit(QuantumCircuit.from_qasm_file(P))"
   ]
  },
  {
   "cell_type": "code",
   "execution_count": 6,
   "id": "55d71114-0a48-4b0b-957f-1441b2aa3f3d",
   "metadata": {},
   "outputs": [
    {
     "name": "stderr",
     "output_type": "stream",
     "text": [
      "max_tdiff=6.32e-08:   6%|6         | 6/100 [00:05<01:33,  1.01it/s]"
     ]
    },
    {
     "name": "stdout",
     "output_type": "stream",
     "text": [
      "CPU times: user 18.1 s, sys: 16.1 s, total: 34.2 s\n",
      "Wall time: 5.98 s\n"
     ]
    },
    {
     "name": "stderr",
     "output_type": "stream",
     "text": [
      "\n"
     ]
    }
   ],
   "source": [
    "%%time\n",
    "tn = qtn.tensor_network_1d_compress(\n",
    "    qc.psi, # Remove the initial state of the network\n",
    "    max_bond = 32,\n",
    "    cutoff = 1e-12,\n",
    "    method = \"fit\",\n",
    "    bsz = 2,  # bsz=1 is cheaper per sweep, but possibly slower to converge\n",
    "    max_iterations = 100,\n",
    "    tol = 1/np.sqrt(2**qc.N),\n",
    "    progbar=True,\n",
    ")"
   ]
  },
  {
   "cell_type": "code",
   "execution_count": 7,
   "id": "e196472d-b816-4b26-b3ea-ae4344b7d828",
   "metadata": {},
   "outputs": [],
   "source": [
    "tn_mps = tn.view_as_(\n",
    "    qtn.MatrixProductState,\n",
    "    cyclic=False,\n",
    "    L=qc.N\n",
    ")"
   ]
  },
  {
   "cell_type": "code",
   "execution_count": 8,
   "id": "4fc11495-e706-4920-8fdf-926d276990d3",
   "metadata": {},
   "outputs": [
    {
     "name": "stdout",
     "output_type": "stream",
     "text": [
      "CPU times: user 45.4 s, sys: 437 ms, total: 45.8 s\n",
      "Wall time: 45.5 s\n"
     ]
    },
    {
     "data": {
      "text/plain": [
       "('01011000100010110011111000001010101010110001', 0.11271254171304587)"
      ]
     },
     "execution_count": 8,
     "metadata": {},
     "output_type": "execute_result"
    }
   ],
   "source": [
    "%%time\n",
    "sampled = list(tn_mps.sample(1000))\n",
    "sample_dict = {''.join(map(str, sample[0])): sample[1] for sample in sampled}\n",
    "\n",
    "ssd = sorted(sample_dict.items(), key=lambda kv: kv[1], reverse=True)\n",
    "\n",
    "#Reverse to get qiskit ordering\n",
    "ssd[0][0][::-1],ssd[0][1]"
   ]
  }
 ],
 "metadata": {
  "kernelspec": {
   "display_name": "Python 3 (ipykernel)",
   "language": "python",
   "name": "python3"
  },
  "language_info": {
   "codemirror_mode": {
    "name": "ipython",
    "version": 3
   },
   "file_extension": ".py",
   "mimetype": "text/x-python",
   "name": "python",
   "nbconvert_exporter": "python",
   "pygments_lexer": "ipython3",
   "version": "3.10.0"
  }
 },
 "nbformat": 4,
 "nbformat_minor": 5
}
